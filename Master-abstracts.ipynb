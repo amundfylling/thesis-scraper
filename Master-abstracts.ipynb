{
 "cells": [
  {
   "cell_type": "code",
   "execution_count": 4,
   "id": "952e9b10-8acd-4e3f-90ca-c8689820169f",
   "metadata": {},
   "outputs": [],
   "source": [
    "import requests\n",
    "from bs4 import BeautifulSoup\n",
    "from concurrent.futures import ThreadPoolExecutor, as_completed\n",
    "from latex import escape"
   ]
  },
  {
   "cell_type": "code",
   "execution_count": 12,
   "id": "51042ad5-95dc-4094-ab6f-1723c90599fb",
   "metadata": {},
   "outputs": [],
   "source": [
    "# Create empty set for storing links\n",
    "links = set()\n",
    "\n",
    "# I just want the newest 1000 thesis\n",
    "for x in range(1,11):\n",
    "    \n",
    "    # Create the URL with the current page number\n",
    "    URL = \"https://openaccess.nhh.no/nhh-xmlui/discover?rpp=100&etal=0&scope=/&group_by=none&page=\" + str(x) + \"&sort_by=dc.date.issued_dt&order=desc&filtertype_0=doctype&filtertype_1=dateIssued&filter_relational_operator_1=contains&filter_relational_operator_0=equals&filter_1=&filter_0=Master+thesis\"\n",
    "    \n",
    "    # Use the requests library to retrieve the HTML content of the URL\n",
    "    page = requests.get(URL)\n",
    "    \n",
    "    # Use BeautifulSoup to parse the HTML content\n",
    "    soup = BeautifulSoup(page.content, 'html.parser')\n",
    "    \n",
    "    # Find all 'a' tags in the HTML\n",
    "    for link in soup.find_all('a'):\n",
    "        href = link.get('href')\n",
    "        \n",
    "        # Check if the 'href' attribute contains the desired link\n",
    "        if href and '/nhh-xmlui/handle/11250/' in href:\n",
    "            \n",
    "             # Add the link to the set\n",
    "            links.add(\"https://openaccess.nhh.no\" + href)\n"
   ]
  },
  {
   "cell_type": "markdown",
   "id": "02cbd612-373a-4b2b-939f-d333a253345f",
   "metadata": {},
   "source": [
    "After collecting the links for all master thesis, we can read all the abstracts."
   ]
  },
  {
   "cell_type": "code",
   "execution_count": 13,
   "id": "97b37419-2dd3-47bc-9d1d-63c083dd33d8",
   "metadata": {},
   "outputs": [
    {
     "name": "stdout",
     "output_type": "stream",
     "text": [
      "No abstract found for link https://openaccess.nhh.no/nhh-xmlui/handle/11250/2772251\n",
      "No abstract found for link https://openaccess.nhh.no/nhh-xmlui/handle/11250/2681034\n",
      "No abstract found for link https://openaccess.nhh.no/nhh-xmlui/handle/11250/2781350\n",
      "No abstract found for link https://openaccess.nhh.no/nhh-xmlui/handle/11250/2985381\n",
      "No abstract found for link https://openaccess.nhh.no/nhh-xmlui/handle/11250/2772145\n",
      "No abstract found for link https://openaccess.nhh.no/nhh-xmlui/handle/11250/3014019\n",
      "No abstract found for link https://openaccess.nhh.no/nhh-xmlui/handle/11250/2682586No abstract found for link https://openaccess.nhh.no/nhh-xmlui/handle/11250/2982082\n",
      "\n",
      "No abstract found for link https://openaccess.nhh.no/nhh-xmlui/handle/11250/3032223\n",
      "No abstract found for link https://openaccess.nhh.no/nhh-xmlui/handle/11250/2734277\n",
      "No abstract found for link https://openaccess.nhh.no/nhh-xmlui/handle/11250/3027623\n",
      "No abstract found for link https://openaccess.nhh.no/nhh-xmlui/handle/11250/2639514\n",
      "No abstract found for link https://openaccess.nhh.no/nhh-xmlui/handle/11250/3014254\n",
      "No abstract found for link https://openaccess.nhh.no/nhh-xmlui/handle/11250/2734643\n",
      "No abstract found for link https://openaccess.nhh.no/nhh-xmlui/handle/11250/2735035\n",
      "No abstract found for link https://openaccess.nhh.no/nhh-xmlui/handle/11250/2623487\n",
      "No abstract found for link https://openaccess.nhh.no/nhh-xmlui/handle/11250/3017396\n",
      "No abstract found for link https://openaccess.nhh.no/nhh-xmlui/handle/11250/3021283\n",
      "No abstract found for link https://openaccess.nhh.no/nhh-xmlui/handle/11250/2683768\n",
      "No abstract found for link https://openaccess.nhh.no/nhh-xmlui/handle/11250/2737188\n"
     ]
    }
   ],
   "source": [
    "abstracts = []\n",
    "\n",
    "# function for extracting abstract\n",
    "def extract_abstract(link):\n",
    "    # Get the HTML content of the webpage\n",
    "    html_content = requests.get(link).text\n",
    "    \n",
    "    # Create a BeautifulSoup object\n",
    "    soup = BeautifulSoup(html_content, 'html.parser')\n",
    "    \n",
    "    # Extract the title\n",
    "    title = soup.find(\"title\").text.replace(\"NHH Brage: \",\"\")\n",
    "    \n",
    "    # Extract the abstract if there is one\n",
    "    abstract = soup.find(\"meta\", {\"name\":\"DCTERMS.abstract\"})\n",
    "    if abstract:\n",
    "        abstract = abstract[\"content\"]\n",
    "        abstracts.append({'title': title, 'abstract': abstract})\n",
    "    else:\n",
    "        print(f\"No abstract found for link {link}\")\n",
    "\n",
    "# Run in paralell for faster computation\n",
    "with ThreadPoolExecutor() as executor:\n",
    "    future_to_link = {executor.submit(extract_abstract, link): link for link in links}\n",
    "    for future in as_completed(future_to_link):\n",
    "        link = future_to_link[future]\n",
    "        try:\n",
    "            future.result()\n",
    "        except Exception as e:\n",
    "            print(f\"Error occured while processing link {link}: {e}\")\n"
   ]
  },
  {
   "cell_type": "markdown",
   "id": "e34a97d0-d295-4592-8d77-65a089d85f5e",
   "metadata": {},
   "source": [
    "Finally, I write the abstracts to a Latex-file which can be compiled to a pdf in Overleaf. Each abstract will be on a separate page with the title in bold to make it easily readable."
   ]
  },
  {
   "cell_type": "code",
   "execution_count": 14,
   "id": "4abbf9d1-42c0-4cfd-ac18-8524cd1ff791",
   "metadata": {},
   "outputs": [],
   "source": [
    "with open(\"abstracts.tex\", \"w\", encoding='utf-8') as file:\n",
    "    for item in abstracts:\n",
    "        title = item['title']\n",
    "        abstract = item['abstract']\n",
    "        file.write(f\"\\\\textbf{{{escape(title)}}} \\\\\\\\ \\n\")\n",
    "        file.write(f\"{escape(abstract)} \\n\")\n",
    "        file.write(\"\\\\newpage \\n\")"
   ]
  },
  {
   "cell_type": "markdown",
   "id": "ea99833c-2a29-4ba3-b45a-717c8b6f9e4a",
   "metadata": {},
   "source": [
    "I have compiled the file in Overleaf, which can be found in pdf-format on the Github repository :)"
   ]
  },
  {
   "cell_type": "code",
   "execution_count": null,
   "id": "013dc121-8b56-4f90-9d77-fe45ac96952b",
   "metadata": {},
   "outputs": [],
   "source": []
  }
 ],
 "metadata": {
  "kernelspec": {
   "display_name": "Python 3 (ipykernel)",
   "language": "python",
   "name": "python3"
  },
  "language_info": {
   "codemirror_mode": {
    "name": "ipython",
    "version": 3
   },
   "file_extension": ".py",
   "mimetype": "text/x-python",
   "name": "python",
   "nbconvert_exporter": "python",
   "pygments_lexer": "ipython3",
   "version": "3.9.13"
  }
 },
 "nbformat": 4,
 "nbformat_minor": 5
}
